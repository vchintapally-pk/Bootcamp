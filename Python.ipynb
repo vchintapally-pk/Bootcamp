{
 "cells": [
  {
   "cell_type": "markdown",
   "metadata": {},
   "source": [
    "# pallindrome of numbers"
   ]
  },
  {
   "cell_type": "code",
   "execution_count": 3,
   "metadata": {},
   "outputs": [
    {
     "name": "stdout",
     "output_type": "stream",
     "text": [
      "pallindrome\n"
     ]
    }
   ],
   "source": [
    "a=121\n",
    "d=a\n",
    "b=0\n",
    "while(a>0):\n",
    "    c=a%10\n",
    "    b=b*10+c\n",
    "    a=int(a/10)\n",
    "if b==d:\n",
    "    print(\"pallindrome\")\n",
    "    "
   ]
  },
  {
   "cell_type": "code",
   "execution_count": 4,
   "metadata": {},
   "outputs": [
    {
     "name": "stdout",
     "output_type": "stream",
     "text": [
      "True\n"
     ]
    }
   ],
   "source": [
    "a = 121\n",
    "b = str(a)\n",
    "b = b[::-1]\n",
    "b = int(a)\n",
    "if a/b == 1:\n",
    "    print(True)"
   ]
  },
  {
   "cell_type": "markdown",
   "metadata": {},
   "source": [
    "# pallindrome of a string"
   ]
  },
  {
   "cell_type": "code",
   "execution_count": 5,
   "metadata": {},
   "outputs": [
    {
     "name": "stdout",
     "output_type": "stream",
     "text": [
      "lahsiv\n"
     ]
    }
   ],
   "source": [
    "a=\"vishal\"\n",
    "w=\"\"\n",
    "for i in a:\n",
    "    w=i+w\n",
    "print(w)\n",
    "if w==a:\n",
    "    print(\"pallindrome\")"
   ]
  },
  {
   "cell_type": "code",
   "execution_count": 6,
   "metadata": {},
   "outputs": [],
   "source": [
    "#given string pallindrome and integer,asked to find can anagrams be created by deleting those number of characters"
   ]
  },
  {
   "cell_type": "code",
   "execution_count": 7,
   "metadata": {},
   "outputs": [
    {
     "name": "stdout",
     "output_type": "stream",
     "text": [
      "True\n"
     ]
    }
   ],
   "source": [
    "a=\"abba\"\n",
    "n=1\n",
    "w=\"\"\n",
    "if len(a)>=n:\n",
    "    print(True)\n",
    "    "
   ]
  },
  {
   "cell_type": "markdown",
   "metadata": {},
   "source": [
    "# pallindrome divisors"
   ]
  },
  {
   "cell_type": "code",
   "execution_count": 8,
   "metadata": {},
   "outputs": [
    {
     "name": "stdout",
     "output_type": "stream",
     "text": [
      "[1, 2, 3, 6, 11, 22, 33, 66]\n"
     ]
    }
   ],
   "source": [
    "n=66\n",
    "a=[]\n",
    "for i in range(1,10):\n",
    "    if n%i==0:\n",
    "        a.append(i)\n",
    "def pallindrome(a):\n",
    "    d=a\n",
    "    b=0\n",
    "    while(a>0):\n",
    "        c=a%10\n",
    "        b=b*10+c\n",
    "        a=int(a/10)\n",
    "    if b==d:\n",
    "        return 1\n",
    "    else:\n",
    "        return 0\n",
    "for i in range(10,n+1):\n",
    "    if n%i==0:\n",
    "        q=pallindrome(i)\n",
    "        if q==1:\n",
    "            a.append(i)\n",
    "        \n",
    "print(a)\n",
    "    \n",
    "        "
   ]
  },
  {
   "cell_type": "markdown",
   "metadata": {},
   "source": [
    "# pallindrome recursively"
   ]
  },
  {
   "cell_type": "code",
   "execution_count": 9,
   "metadata": {},
   "outputs": [
    {
     "name": "stdout",
     "output_type": "stream",
     "text": [
      "pallindrome\n"
     ]
    }
   ],
   "source": [
    "def ispallindrome(s,f,e):\n",
    "    if f==e:\n",
    "        return True\n",
    "    if s[f]!=s[e]:\n",
    "        return False\n",
    "    \n",
    "    if f<e:\n",
    "        return ispallindrome(s,f+1,e-1)\n",
    "        \n",
    "\n",
    "s=\"abeba\"\n",
    "\n",
    "if ispallindrome(s,0,len(s)-1):\n",
    "    print(\"pallindrome\")\n",
    "else:\n",
    "    print(\"not\")\n",
    "    "
   ]
  },
  {
   "cell_type": "code",
   "execution_count": 10,
   "metadata": {},
   "outputs": [],
   "source": [
    "#length of largest non pallindrome that can be formed by deleting"
   ]
  },
  {
   "cell_type": "code",
   "execution_count": 11,
   "metadata": {},
   "outputs": [
    {
     "name": "stdout",
     "output_type": "stream",
     "text": [
      "['ma', 'mal', 'mala', 'malay', 'malaya', 'malayal', 'malayala', 'al', 'alay', 'alaya', 'alayal', 'alayalam', 'la', 'lay', 'laya', 'layala', 'layalam', 'ay', 'ayal', 'ayala', 'ayalam', 'ya', 'yal', 'yala', 'yalam', 'al', 'alam', 'la', 'lam', 'am']\n",
      "8\n",
      "malayala\n"
     ]
    }
   ],
   "source": [
    "s=\"malayalam\"\n",
    "w=\"\"\n",
    "r=[]\n",
    "def isp(a):\n",
    "    w=\"\"\n",
    "    for i in a:\n",
    "        w=i+w\n",
    "    if w==a:\n",
    "        return 1\n",
    "    else:\n",
    "        return 0\n",
    "    \n",
    "for i in range(len(s)):\n",
    "    w=s[i]\n",
    "    for j in range(i+1,len(s)):\n",
    "        w=w+s[j]\n",
    "        t=isp(w)\n",
    "        if t==0:\n",
    "            r.append(w)\n",
    "            \n",
    "p=0\n",
    "q=\"\"\n",
    "for i in r:\n",
    "    if len(i)>p:\n",
    "        p=len(i)\n",
    "        q=i\n",
    "print(r)\n",
    "print(p)\n",
    "print(q)\n",
    "    \n"
   ]
  },
  {
   "cell_type": "markdown",
   "metadata": {},
   "source": [
    "# fibonacci"
   ]
  },
  {
   "cell_type": "code",
   "execution_count": 12,
   "metadata": {},
   "outputs": [
    {
     "name": "stdout",
     "output_type": "stream",
     "text": [
      "[0, 1, 1, 2, 3, 5, 8, 13]\n"
     ]
    }
   ],
   "source": [
    "a=[0,1]\n",
    "i=2\n",
    "n=8\n",
    "while(i<n):\n",
    "    q=a[len(a)-1]+a[len(a)-2]\n",
    "    a.append(q)\n",
    "    i=i+1\n",
    "print(a)"
   ]
  },
  {
   "cell_type": "markdown",
   "metadata": {},
   "source": [
    "# fibonacci conventional way"
   ]
  },
  {
   "cell_type": "code",
   "execution_count": 13,
   "metadata": {},
   "outputs": [
    {
     "name": "stdout",
     "output_type": "stream",
     "text": [
      "3\n",
      "3\n",
      "[0, 1, 1, 2, 3]\n"
     ]
    }
   ],
   "source": [
    "a=0\n",
    "b=1\n",
    "i=2\n",
    "n=5\n",
    "k=[]\n",
    "k.append(a)\n",
    "k.append(b)\n",
    "while(i<n):\n",
    "    c=a+b\n",
    "    k.append(c)\n",
    "    a=b\n",
    "    b=c\n",
    "    i=i+1\n",
    "print(b)\n",
    "print(c)\n",
    "print(k)\n",
    "    \n"
   ]
  },
  {
   "cell_type": "markdown",
   "metadata": {},
   "source": [
    "# fibonacci recursive"
   ]
  },
  {
   "cell_type": "code",
   "execution_count": 14,
   "metadata": {},
   "outputs": [
    {
     "name": "stdout",
     "output_type": "stream",
     "text": [
      "21\n"
     ]
    }
   ],
   "source": [
    "def fib(n):\n",
    "    if n==1:\n",
    "        return 0\n",
    "    if n==2:\n",
    "        return 1\n",
    "    else:\n",
    "        return fib(n-1)+fib(n-2)\n",
    "print(fib(9))"
   ]
  },
  {
   "cell_type": "markdown",
   "metadata": {},
   "source": [
    "# anagrams"
   ]
  },
  {
   "cell_type": "code",
   "execution_count": 15,
   "metadata": {},
   "outputs": [
    {
     "name": "stdout",
     "output_type": "stream",
     "text": [
      "anagrams\n"
     ]
    }
   ],
   "source": [
    "a=\"abode\"\n",
    "b=\"adobe\"\n",
    "c=list(a)\n",
    "d=list(b)\n",
    "c.sort()\n",
    "d.sort()\n",
    "if c==d:\n",
    "    print(\"anagrams\")"
   ]
  },
  {
   "cell_type": "markdown",
   "metadata": {},
   "source": [
    "# remove duplicates from string and print it"
   ]
  },
  {
   "cell_type": "code",
   "execution_count": 16,
   "metadata": {},
   "outputs": [
    {
     "name": "stdout",
     "output_type": "stream",
     "text": [
      "vishal\n",
      "['v', 'i', 's', 'h', 'a', 'l']\n"
     ]
    }
   ],
   "source": [
    "a=\"vishall\"\n",
    "w=\"\"\n",
    "g=[]\n",
    "for i in a:\n",
    "    if i not in g:\n",
    "        g.append(i)\n",
    "        w=w+i\n",
    "print(w)\n",
    "print(g)"
   ]
  },
  {
   "cell_type": "markdown",
   "metadata": {},
   "source": [
    "# character count in a string"
   ]
  },
  {
   "cell_type": "code",
   "execution_count": 17,
   "metadata": {},
   "outputs": [
    {
     "name": "stdout",
     "output_type": "stream",
     "text": [
      "g count is 2 times\n",
      "e count is 4 times\n",
      "k count is 2 times\n",
      "s count is 2 times\n",
      "f count is 1 times\n",
      "o count is 1 times\n",
      "r count is 1 times\n",
      "4\n",
      "e\n"
     ]
    }
   ],
   "source": [
    "a=\"geeksforgeeks\"\n",
    "g=[]\n",
    "s=0\n",
    "h=''\n",
    "for i in a:\n",
    "    if i not in g:\n",
    "        g.append(i)\n",
    "        c=0\n",
    "        for j in a:\n",
    "            if i==j:\n",
    "                c=c+1\n",
    "        print(f\"{i} count is {c} times\")\n",
    "        if(c>s):\n",
    "            s=c\n",
    "            h=i\n",
    "print(s)\n",
    "print(h)\n",
    "        \n",
    "        "
   ]
  },
  {
   "cell_type": "markdown",
   "metadata": {},
   "source": [
    "# word count in a sentence"
   ]
  },
  {
   "cell_type": "code",
   "execution_count": 18,
   "metadata": {},
   "outputs": [
    {
     "name": "stdout",
     "output_type": "stream",
     "text": [
      "apple count is 2 times\n",
      "is count is 2 times\n",
      "an count is 1 times\n",
      "a count is 1 times\n",
      "phone count is 1 times\n",
      "frequent word is apple and it's count is 2\n"
     ]
    },
    {
     "data": {
      "text/plain": [
       "list"
      ]
     },
     "execution_count": 18,
     "metadata": {},
     "output_type": "execute_result"
    }
   ],
   "source": [
    "s=\"apple is an apple is a phone\"\n",
    "q=s.split(' ')\n",
    "r=[]\n",
    "h=\"\"\n",
    "s=0\n",
    "for i in q:\n",
    "    if i not in r:\n",
    "        r.append(i)\n",
    "        c=0\n",
    "        for j in q:\n",
    "            if i==j:\n",
    "                c=c+1\n",
    "        print(f\"{i} count is {c} times\")\n",
    "        if(c>s):\n",
    "              s=c\n",
    "              h=i\n",
    "    \n",
    "print(f\"frequent word is {h} and it's count is {s}\")  \n",
    "type(q)"
   ]
  },
  {
   "cell_type": "markdown",
   "metadata": {},
   "source": [
    "# anagrams"
   ]
  },
  {
   "cell_type": "code",
   "execution_count": 19,
   "metadata": {},
   "outputs": [
    {
     "name": "stdout",
     "output_type": "stream",
     "text": [
      "anagrams\n"
     ]
    }
   ],
   "source": [
    "def sortstring(q):\n",
    "    s=list(q)\n",
    "    for i in range(len(s)-1):\n",
    "        for j in range(len(s)-i-1):\n",
    "            if s[j]>s[j+1]:\n",
    "                temp=s[j]\n",
    "                s[j]=s[j+1]\n",
    "                s[j+1]=temp\n",
    "    q1=\"\"\n",
    "    for i in s:\n",
    "        q1=q1+i\n",
    "    return q1\n",
    "    \n",
    "\n",
    "q=[\"vishal\",\"hslaiv\"]\n",
    "r1=sortstring(q[0])\n",
    "r2=sortstring(q[1])\n",
    "if r1==r2:\n",
    "    print(\"anagrams\")\n",
    "else:\n",
    "    print(\"not anagrams\")"
   ]
  },
  {
   "cell_type": "code",
   "execution_count": 20,
   "metadata": {},
   "outputs": [
    {
     "name": "stdout",
     "output_type": "stream",
     "text": [
      "i\n"
     ]
    }
   ],
   "source": [
    "s=\"iiuuolkkytr\"\n",
    "for i in s:\n",
    "    c=0\n",
    "    for j in s:\n",
    "        if i==j:\n",
    "            c=c+1\n",
    "    if c==2:\n",
    "        print(i)\n",
    "        break"
   ]
  },
  {
   "cell_type": "markdown",
   "metadata": {},
   "source": [
    "# first repeating character in a string"
   ]
  },
  {
   "cell_type": "code",
   "execution_count": 21,
   "metadata": {},
   "outputs": [
    {
     "name": "stdout",
     "output_type": "stream",
     "text": [
      "k\n"
     ]
    }
   ],
   "source": [
    "s=\"iuolkkytr\"\n",
    "r=set()\n",
    "for i in s:\n",
    "    if i not in r:\n",
    "        r.add(i)\n",
    "    else:\n",
    "        print(i)\n",
    "        break"
   ]
  },
  {
   "cell_type": "markdown",
   "metadata": {},
   "source": [
    "# first non repeating character in a string"
   ]
  },
  {
   "cell_type": "code",
   "execution_count": 22,
   "metadata": {},
   "outputs": [
    {
     "name": "stdout",
     "output_type": "stream",
     "text": [
      "f\n",
      "1\n"
     ]
    }
   ],
   "source": [
    "a=\"geeksforgeeks\"\n",
    "g=[]\n",
    "s=0\n",
    "h=''\n",
    "for i in a:\n",
    "    if i not in g:\n",
    "        g.append(i)\n",
    "        c=0\n",
    "        for j in a:\n",
    "            if i==j:\n",
    "                c=c+1\n",
    "        #print(f\"{i} count is {c} times\")\n",
    "        if(c==1):\n",
    "            s=c\n",
    "            h=i\n",
    "            print(h)\n",
    "            break\n",
    "print(s)\n"
   ]
  },
  {
   "cell_type": "markdown",
   "metadata": {},
   "source": [
    "# frequency of characters using dictionary"
   ]
  },
  {
   "cell_type": "code",
   "execution_count": 23,
   "metadata": {},
   "outputs": [
    {
     "name": "stdout",
     "output_type": "stream",
     "text": [
      "dict_items([('a', 1), ('c', 4), ('b', 2), ('d', 2)])\n"
     ]
    }
   ],
   "source": [
    "s=\"accbbccdd\";\n",
    "from collections import defaultdict;\n",
    "dict=defaultdict(int);\n",
    "for char in s:\n",
    "    dict[char]+=1;\n",
    "print(dict.items())\n",
    "#print(sorted(dict.items(),key=lambda x:(-x[1],x[0])))"
   ]
  },
  {
   "cell_type": "markdown",
   "metadata": {},
   "source": [
    "# non repeating character in a string"
   ]
  },
  {
   "cell_type": "code",
   "execution_count": 24,
   "metadata": {},
   "outputs": [
    {
     "name": "stdout",
     "output_type": "stream",
     "text": [
      "c\n"
     ]
    }
   ],
   "source": [
    "s=\"aabbcdd\";\n",
    "from collections import defaultdict;\n",
    "dict=defaultdict(int);\n",
    "for char in s:\n",
    "    dict[char]+=1;\n",
    "\n",
    "for char in s:\n",
    "    if(dict[char]==1):\n",
    "        print(char);\n",
    "        break;\n",
    "        \n"
   ]
  },
  {
   "cell_type": "markdown",
   "metadata": {},
   "source": [
    "# first repeating character in a string"
   ]
  },
  {
   "cell_type": "code",
   "execution_count": 25,
   "metadata": {},
   "outputs": [
    {
     "name": "stdout",
     "output_type": "stream",
     "text": [
      "1\n",
      "2\n",
      "b\n"
     ]
    }
   ],
   "source": [
    "s=\"abcbdd\"\n",
    "from collections import defaultdict\n",
    "dict=defaultdict(int)\n",
    "for i in s:\n",
    "    dict[i]+=1\n",
    "for i in s:\n",
    "    print(dict[i])\n",
    "    if(dict[i]>1):\n",
    "        print(i)\n",
    "        break"
   ]
  },
  {
   "cell_type": "code",
   "execution_count": 26,
   "metadata": {},
   "outputs": [
    {
     "name": "stdout",
     "output_type": "stream",
     "text": [
      "abc\n"
     ]
    }
   ],
   "source": [
    "li=['a','b','c'];\n",
    "print(''.join(li))"
   ]
  },
  {
   "cell_type": "code",
   "execution_count": 27,
   "metadata": {},
   "outputs": [
    {
     "name": "stdout",
     "output_type": "stream",
     "text": [
      "dict_items([(1, 3), (2, 1), (3, 2)])\n"
     ]
    }
   ],
   "source": [
    "r=[1,2,3,1,1,3]\n",
    "from collections import defaultdict\n",
    "dict=defaultdict(int)\n",
    "for i in r:\n",
    "    dict[i]+=1\n",
    "print(dict.items())"
   ]
  },
  {
   "cell_type": "markdown",
   "metadata": {},
   "source": [
    "# substring of a string"
   ]
  },
  {
   "cell_type": "code",
   "execution_count": 28,
   "metadata": {},
   "outputs": [
    {
     "name": "stdout",
     "output_type": "stream",
     "text": [
      "5\n",
      "for\n",
      "True\n",
      "3\n"
     ]
    }
   ],
   "source": [
    "s1=\"for\"\n",
    "s2=\"geeksforgeeks\"\n",
    "\n",
    "ol = len(s1)\n",
    "\n",
    "for i in range(len(s2)-ol+1):\n",
    "    if s2[i:i+ol] == s1:\n",
    "        print(i)\n",
    "        print(s2[i:i+ol])\n",
    "        print(True)  \n",
    "        print(ol)"
   ]
  },
  {
   "cell_type": "markdown",
   "metadata": {},
   "source": [
    "# character count in a string(actual)"
   ]
  },
  {
   "cell_type": "code",
   "execution_count": 29,
   "metadata": {},
   "outputs": [
    {
     "name": "stdout",
     "output_type": "stream",
     "text": [
      "\n",
      "0\n",
      "{'v': 1, 'i': 1, 's': 1, 'h': 1, 'a': 1, 'l': 2}\n"
     ]
    }
   ],
   "source": [
    "x='vishall'\n",
    "d = {}\n",
    "c=\"\"\n",
    "o=0\n",
    "for i in x:\n",
    "    if i not in d:\n",
    "        d[i] = 1\n",
    "    else:\n",
    "        d[i] = d[i]+1\n",
    "        if(dict[i]>o):\n",
    "            o=dict[i]\n",
    "            c=i\n",
    "print(c)\n",
    "print(o)\n",
    "print(d) "
   ]
  },
  {
   "cell_type": "markdown",
   "metadata": {},
   "source": [
    "# remove duplicates from a string(actual)"
   ]
  },
  {
   "cell_type": "code",
   "execution_count": 30,
   "metadata": {},
   "outputs": [
    {
     "name": "stdout",
     "output_type": "stream",
     "text": [
      "pol\n"
     ]
    }
   ],
   "source": [
    "x='poloool'\n",
    "d = \"\"\n",
    "a=\"\"\n",
    "for i in x:\n",
    "    if i not in d:\n",
    "        d=d+i\n",
    "print(d)"
   ]
  },
  {
   "cell_type": "markdown",
   "metadata": {},
   "source": [
    "# word count in a string(actual)"
   ]
  },
  {
   "cell_type": "code",
   "execution_count": 31,
   "metadata": {},
   "outputs": [
    {
     "name": "stdout",
     "output_type": "stream",
     "text": [
      "apple\n",
      "2\n",
      "{'apple': 2, 'is': 2, 'an': 1, 'a': 1, 'phone': 1}\n"
     ]
    }
   ],
   "source": [
    "s=\"apple is an apple is a phone\"\n",
    "s = s.split(' ')\n",
    "d = {}\n",
    "c=0\n",
    "e=\"\"\n",
    "for i in s:\n",
    "    if i not in d:\n",
    "        d[i]=1\n",
    "    else:\n",
    "        d[i]+=1\n",
    "    if(d[i]>c):\n",
    "        c=d[i]\n",
    "        e=i\n",
    "print(e)\n",
    "print(c)\n",
    "print(d)"
   ]
  },
  {
   "cell_type": "markdown",
   "metadata": {},
   "source": [
    "# largest element in an array"
   ]
  },
  {
   "cell_type": "code",
   "execution_count": 32,
   "metadata": {},
   "outputs": [
    {
     "name": "stdout",
     "output_type": "stream",
     "text": [
      "45\n"
     ]
    }
   ],
   "source": [
    "a=[1,3,45,-3,4]\n",
    "t=0\n",
    "for i in a:\n",
    "    if i>t:\n",
    "        t=i \n",
    "print(t)"
   ]
  },
  {
   "cell_type": "code",
   "execution_count": 33,
   "metadata": {},
   "outputs": [
    {
     "name": "stdout",
     "output_type": "stream",
     "text": [
      "4\n"
     ]
    }
   ],
   "source": [
    "a=[1,3,45,-3,4]\n",
    "a.sort()\n",
    "print(a[len(a)-2])"
   ]
  },
  {
   "cell_type": "markdown",
   "metadata": {},
   "source": [
    "# 2nd largest element in an array"
   ]
  },
  {
   "cell_type": "code",
   "execution_count": 34,
   "metadata": {},
   "outputs": [
    {
     "name": "stdout",
     "output_type": "stream",
     "text": [
      "4\n"
     ]
    }
   ],
   "source": [
    "a=[1,3,45,-3,4]\n",
    "t=a[0]\n",
    "q=a[0]\n",
    "for i in a:\n",
    "    if i>t:\n",
    "        t=i \n",
    "for i in a:\n",
    "    if i>q and i<t:\n",
    "        q=i\n",
    "print(q)\n",
    "    "
   ]
  },
  {
   "cell_type": "markdown",
   "metadata": {},
   "source": [
    "# 2nd largest element in an array(O(n))"
   ]
  },
  {
   "cell_type": "code",
   "execution_count": 35,
   "metadata": {},
   "outputs": [
    {
     "name": "stdout",
     "output_type": "stream",
     "text": [
      "4\n"
     ]
    }
   ],
   "source": [
    "f=s=-2147483648\n",
    "a=[1,3,45,-3,4]\n",
    "for i in a:\n",
    "    if i>f:\n",
    "        s=f\n",
    "        f=i\n",
    "    elif i>s and i!=f:\n",
    "        s=i\n",
    "print(s)"
   ]
  },
  {
   "cell_type": "code",
   "execution_count": 36,
   "metadata": {},
   "outputs": [
    {
     "name": "stdout",
     "output_type": "stream",
     "text": [
      "{1: 2, 2: 1, 3: 2, 4: 1, 5: 3, 6: 3}\n",
      "2\n",
      "5\n"
     ]
    }
   ],
   "source": [
    "a=[1, 1, 2, 3, 3, 4, 5, 5, 5, 6, 6, 6]\n",
    "d={}\n",
    "for i in a:\n",
    "    if i not in d:\n",
    "        d[i]=1\n",
    "    else:\n",
    "        d[i]+=1\n",
    "print(d)\n",
    "f=list(d.values())\n",
    "c=f[0]\n",
    "print(c)\n",
    "for i in d:\n",
    "    if d[i]>c:\n",
    "        c=d[i]\n",
    "        r=i\n",
    "print(r)\n",
    "\n",
    "\n"
   ]
  },
  {
   "cell_type": "code",
   "execution_count": 37,
   "metadata": {},
   "outputs": [
    {
     "data": {
      "text/plain": [
       "[2, 1, 2, 1, 3, 3]"
      ]
     },
     "execution_count": 37,
     "metadata": {},
     "output_type": "execute_result"
    }
   ],
   "source": [
    "list(d.values())"
   ]
  },
  {
   "cell_type": "code",
   "execution_count": 38,
   "metadata": {},
   "outputs": [],
   "source": [
    "v=[]\n",
    "for i in d:\n",
    "    if d[i]==2:\n",
    "        v.append(i)\n",
    "        \n",
    "        "
   ]
  },
  {
   "cell_type": "markdown",
   "metadata": {},
   "source": [
    "# FizzBuzz"
   ]
  },
  {
   "cell_type": "code",
   "execution_count": 39,
   "metadata": {},
   "outputs": [
    {
     "name": "stdout",
     "output_type": "stream",
     "text": [
      "['1', '2', 'Fizz', '4', 'Buzz', 'Fizz', '7', '8', 'Fizz', 'Buzz', '11', 'Fizz', '13', '14', 'FizzBuzz']\n"
     ]
    }
   ],
   "source": [
    "n=15\n",
    "a=[]\n",
    "for i in range(1,n+1,1):\n",
    "    s=\"\"\n",
    "    if i%3==0:\n",
    "        s=s+\"Fizz\"\n",
    "    if i%5==0:\n",
    "        s=s+\"Buzz\"\n",
    "    if s==\"\":\n",
    "        s=str(i)\n",
    "    a.append(s)\n",
    "    \n",
    "print(a)    "
   ]
  },
  {
   "cell_type": "code",
   "execution_count": 40,
   "metadata": {},
   "outputs": [
    {
     "name": "stdout",
     "output_type": "stream",
     "text": [
      "3\n",
      "4\n"
     ]
    }
   ],
   "source": [
    "a=[1,2,3,4,5,6]\n",
    "if len(a)%2!=0:\n",
    "    print(a[len(a)//2])\n",
    "else:\n",
    "    print(a[len(a)//2]-1)\n",
    "    print(a[len(a)//2])"
   ]
  },
  {
   "cell_type": "code",
   "execution_count": 41,
   "metadata": {},
   "outputs": [
    {
     "name": "stdout",
     "output_type": "stream",
     "text": [
      "not a prime\n"
     ]
    }
   ],
   "source": [
    "n=12\n",
    "c=0\n",
    "for i in range(2,n,1):\n",
    "    if n%i==0:\n",
    "        c=1\n",
    "        break\n",
    "if c==0:\n",
    "    print(\"it's a prime\")\n",
    "else:\n",
    "    print(\"not a prime\")\n",
    "    "
   ]
  },
  {
   "cell_type": "markdown",
   "metadata": {},
   "source": [
    "# 100 doors"
   ]
  },
  {
   "cell_type": "code",
   "execution_count": 42,
   "metadata": {},
   "outputs": [],
   "source": [
    "a=[]\n",
    "for i in range(1,101,1):\n",
    "    c=0\n",
    "    for j in range(1,i+1,1):\n",
    "        if i%j==0:\n",
    "            c+=1\n",
    "    if c%2!=0:\n",
    "        a.append(i)"
   ]
  },
  {
   "cell_type": "code",
   "execution_count": 43,
   "metadata": {},
   "outputs": [
    {
     "data": {
      "text/plain": [
       "[1, 4, 9, 16, 25, 36, 49, 64, 81, 100]"
      ]
     },
     "execution_count": 43,
     "metadata": {},
     "output_type": "execute_result"
    }
   ],
   "source": [
    "a"
   ]
  },
  {
   "cell_type": "code",
   "execution_count": 44,
   "metadata": {},
   "outputs": [
    {
     "name": "stdout",
     "output_type": "stream",
     "text": [
      "a\n"
     ]
    }
   ],
   "source": [
    "s=\"abcbdd\"\n",
    "from collections import defaultdict\n",
    "dict=defaultdict(int)\n",
    "d={}\n",
    "for i in s:\n",
    "    if i not in d:\n",
    "        d[i]=1\n",
    "    else:\n",
    "        d[i]=d[i]+1\n",
    "for i in s:\n",
    "    if(d[i]==1):\n",
    "        print(i)\n",
    "        break"
   ]
  },
  {
   "cell_type": "code",
   "execution_count": 45,
   "metadata": {},
   "outputs": [
    {
     "ename": "KeyError",
     "evalue": "'a'",
     "output_type": "error",
     "traceback": [
      "\u001b[1;31m---------------------------------------------------------------------------\u001b[0m",
      "\u001b[1;31mKeyError\u001b[0m                                  Traceback (most recent call last)",
      "\u001b[1;32m<ipython-input-45-f8256768dd01>\u001b[0m in \u001b[0;36m<module>\u001b[1;34m\u001b[0m\n\u001b[0;32m      3\u001b[0m \u001b[1;32mfor\u001b[0m \u001b[0mi\u001b[0m \u001b[1;32min\u001b[0m \u001b[0ms\u001b[0m\u001b[1;33m:\u001b[0m\u001b[1;33m\u001b[0m\u001b[1;33m\u001b[0m\u001b[0m\n\u001b[0;32m      4\u001b[0m     \u001b[1;32mif\u001b[0m \u001b[0mi\u001b[0m \u001b[1;32mnot\u001b[0m \u001b[1;32min\u001b[0m \u001b[0md\u001b[0m\u001b[1;33m:\u001b[0m\u001b[1;33m\u001b[0m\u001b[1;33m\u001b[0m\u001b[0m\n\u001b[1;32m----> 5\u001b[1;33m         \u001b[0md\u001b[0m\u001b[1;33m[\u001b[0m\u001b[0mi\u001b[0m\u001b[1;33m]\u001b[0m\u001b[1;33m=\u001b[0m\u001b[0md\u001b[0m\u001b[1;33m[\u001b[0m\u001b[0mi\u001b[0m\u001b[1;33m]\u001b[0m\u001b[1;33m+\u001b[0m\u001b[1;36m1\u001b[0m\u001b[1;33m\u001b[0m\u001b[1;33m\u001b[0m\u001b[0m\n\u001b[0m\u001b[0;32m      6\u001b[0m \u001b[0mprint\u001b[0m\u001b[1;33m(\u001b[0m\u001b[0md\u001b[0m\u001b[1;33m.\u001b[0m\u001b[0mkeys\u001b[0m\u001b[1;33m(\u001b[0m\u001b[1;33m)\u001b[0m\u001b[1;33m)\u001b[0m\u001b[1;33m\u001b[0m\u001b[1;33m\u001b[0m\u001b[0m\n",
      "\u001b[1;31mKeyError\u001b[0m: 'a'"
     ]
    }
   ],
   "source": [
    "s=\"aeeeecbdd\"\n",
    "d={}\n",
    "for i in s:\n",
    "    if i not in d:\n",
    "        d[i]=d[i]+1\n",
    "print(d.keys())"
   ]
  },
  {
   "cell_type": "code",
   "execution_count": null,
   "metadata": {},
   "outputs": [],
   "source": []
  },
  {
   "cell_type": "code",
   "execution_count": null,
   "metadata": {},
   "outputs": [],
   "source": []
  }
 ],
 "metadata": {
  "kernelspec": {
   "display_name": "Python 3",
   "language": "python",
   "name": "python3"
  },
  "language_info": {
   "codemirror_mode": {
    "name": "ipython",
    "version": 3
   },
   "file_extension": ".py",
   "mimetype": "text/x-python",
   "name": "python",
   "nbconvert_exporter": "python",
   "pygments_lexer": "ipython3",
   "version": "3.8.3"
  }
 },
 "nbformat": 4,
 "nbformat_minor": 2
}
